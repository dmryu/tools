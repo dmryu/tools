{
 "cells": [
  {
   "cell_type": "code",
   "execution_count": 2,
   "metadata": {},
   "outputs": [],
   "source": [
    "import numpy as np\n",
    "import matplotlib.pyplot as plt\n",
    "import h5py\n",
    "\n",
    "def plot_img(imgs, img_list, vmin=1.32, vmax=1.42):\n",
    "    '''\n",
    "    imgs: list of 2d arrays (images)\n",
    "    img_list: list of strings (name of the images)\n",
    "    '''\n",
    "    from mpl_toolkits.axes_grid1 import make_axes_locatable\n",
    "    plt.figure(figsize=(30, 10))\n",
    "    n = len(imgs)\n",
    "    \n",
    "    for i, k in enumerate(img_list):\n",
    "        ax = plt.subplot(1, n, i+1)\n",
    "        plt.axis('on')\n",
    "        img = imgs[i]\n",
    "        im = plt.imshow(img, vmin=vmin, vmax=vmax, cmap='viridis')\n",
    "        plt.tick_params(labelsize=20)\n",
    "        divider = make_axes_locatable(ax)\n",
    "        cax = divider.append_axes(\"right\", size=\"5%\", pad=0.03)\n",
    "        cb = plt.colorbar(im, cax=cax)\n",
    "        cb.ax.tick_params(labelsize=20)\n",
    "#         ticklabs = cb.ax.get_yticklabels()\n",
    "#         cb.ax.set_yticklabels(ticklabs, fontsize=20)\n",
    "        ax.set_title(k, fontsize=25)\n",
    "\n",
    "    plt.show()\n",
    "    plt.close()"
   ]
  },
  {
   "cell_type": "code",
   "execution_count": null,
   "metadata": {},
   "outputs": [],
   "source": []
  }
 ],
 "metadata": {
  "kernelspec": {
   "display_name": "Python 3",
   "language": "python",
   "name": "python3"
  },
  "language_info": {
   "codemirror_mode": {
    "name": "ipython",
    "version": 3
   },
   "file_extension": ".py",
   "mimetype": "text/x-python",
   "name": "python",
   "nbconvert_exporter": "python",
   "pygments_lexer": "ipython3",
   "version": "3.7.0"
  }
 },
 "nbformat": 4,
 "nbformat_minor": 4
}
